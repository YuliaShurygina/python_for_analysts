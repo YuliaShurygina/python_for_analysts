{
 "cells": [
  {
   "cell_type": "markdown",
   "id": "559a7629",
   "metadata": {},
   "source": [
    "# Задача 1\n",
    "## Даны значения величины заработной платы заемщиков банка (zp) и значения их поведенческого кредитного скоринга (ks):\n",
    "zp = [35, 45, 190, 200, 40, 70, 54, 150, 120, 110],\n",
    "ks = [401, 574, 874, 919, 459, 739, 653, 902, 746, 832].\n",
    "## Найдите ковариацию этих двух величин с помощью элементарных действий, а затем с помощью функции cov из numpy\n",
    "## Полученные значения должны быть равны.\n",
    "## Найдите коэффициент корреляции Пирсона с помощью ковариации и среднеквадратичных отклонений двух признаков,\n",
    "## а затем с использованием функций из библиотек numpy и pandas.\n"
   ]
  },
  {
   "cell_type": "code",
   "execution_count": 1,
   "id": "b9ac1888",
   "metadata": {},
   "outputs": [],
   "source": [
    "import numpy as np\n",
    "zp = np.array([35, 45, 190, 200, 40, 70, 54, 150, 120, 110])\n",
    "ks = np.array([401, 574, 874, 919, 459, 739, 653, 902, 746, 832])"
   ]
  },
  {
   "cell_type": "code",
   "execution_count": 8,
   "id": "a3898d13",
   "metadata": {},
   "outputs": [
    {
     "data": {
      "text/plain": [
       "101.4"
      ]
     },
     "execution_count": 8,
     "metadata": {},
     "output_type": "execute_result"
    }
   ],
   "source": [
    "M_zp = zp.mean()\n",
    "M_zp"
   ]
  },
  {
   "cell_type": "code",
   "execution_count": 9,
   "id": "cdd59577",
   "metadata": {},
   "outputs": [
    {
     "data": {
      "text/plain": [
       "709.9"
      ]
     },
     "execution_count": 9,
     "metadata": {},
     "output_type": "execute_result"
    }
   ],
   "source": [
    "M_ks = ks.mean()\n",
    "M_ks"
   ]
  },
  {
   "cell_type": "code",
   "execution_count": 13,
   "id": "e30f846d",
   "metadata": {},
   "outputs": [
    {
     "data": {
      "text/plain": [
       "array([ 14035,  25830, 166060, 183800,  18360,  51730,  35262, 135300,\n",
       "        89520,  91520])"
      ]
     },
     "execution_count": 13,
     "metadata": {},
     "output_type": "execute_result"
    }
   ],
   "source": [
    "total = zp*ks\n",
    "total\n"
   ]
  },
  {
   "cell_type": "code",
   "execution_count": 14,
   "id": "6801efff",
   "metadata": {},
   "outputs": [
    {
     "data": {
      "text/plain": [
       "81141.7"
      ]
     },
     "execution_count": 14,
     "metadata": {},
     "output_type": "execute_result"
    }
   ],
   "source": [
    "M_total = total.mean()\n",
    "M_total"
   ]
  },
  {
   "cell_type": "code",
   "execution_count": 15,
   "id": "f796b203",
   "metadata": {},
   "outputs": [
    {
     "data": {
      "text/plain": [
       "9157.839999999997"
      ]
     },
     "execution_count": 15,
     "metadata": {},
     "output_type": "execute_result"
    }
   ],
   "source": [
    "cov = M_total - M_ks * M_zp\n",
    "cov"
   ]
  },
  {
   "cell_type": "code",
   "execution_count": 12,
   "id": "89bc1d47",
   "metadata": {},
   "outputs": [
    {
     "data": {
      "text/plain": [
       "array([[ 3882.93333333, 10175.37777778],\n",
       "       [10175.37777778, 33854.32222222]])"
      ]
     },
     "execution_count": 12,
     "metadata": {},
     "output_type": "execute_result"
    }
   ],
   "source": [
    "np.cov(zp, ks)"
   ]
  },
  {
   "cell_type": "code",
   "execution_count": 17,
   "id": "eba67816",
   "metadata": {},
   "outputs": [
    {
     "data": {
      "text/plain": [
       "array([[ 3494.64,  9157.84],\n",
       "       [ 9157.84, 30468.89]])"
      ]
     },
     "execution_count": 17,
     "metadata": {},
     "output_type": "execute_result"
    }
   ],
   "source": [
    "np.cov(zp, ks, ddof = 0)"
   ]
  },
  {
   "cell_type": "markdown",
   "id": "c6472c4e",
   "metadata": {},
   "source": [
    "Смещенная ковариация, расчитанная функцией, равна рассчитанной нами по формуле."
   ]
  },
  {
   "cell_type": "code",
   "execution_count": 19,
   "id": "6f9c42cb",
   "metadata": {},
   "outputs": [
    {
     "data": {
      "text/plain": [
       "59.115480206118605"
      ]
     },
     "execution_count": 19,
     "metadata": {},
     "output_type": "execute_result"
    }
   ],
   "source": [
    "s1 = np.std(zp, ddof = 0)\n",
    "s1"
   ]
  },
  {
   "cell_type": "code",
   "execution_count": 20,
   "id": "76dde9a5",
   "metadata": {},
   "outputs": [
    {
     "data": {
      "text/plain": [
       "174.55340157098058"
      ]
     },
     "execution_count": 20,
     "metadata": {},
     "output_type": "execute_result"
    }
   ],
   "source": [
    "s2 = np.std(ks, ddof = 0)\n",
    "s2"
   ]
  },
  {
   "cell_type": "code",
   "execution_count": 21,
   "id": "0a01315c",
   "metadata": {},
   "outputs": [
    {
     "data": {
      "text/plain": [
       "0.8874900920739158"
      ]
     },
     "execution_count": 21,
     "metadata": {},
     "output_type": "execute_result"
    }
   ],
   "source": [
    "r = cov/(s1*s2)\n",
    "r"
   ]
  },
  {
   "cell_type": "code",
   "execution_count": 22,
   "id": "e700b314",
   "metadata": {},
   "outputs": [
    {
     "data": {
      "text/plain": [
       "array([[1.        , 0.88749009],\n",
       "       [0.88749009, 1.        ]])"
      ]
     },
     "execution_count": 22,
     "metadata": {},
     "output_type": "execute_result"
    }
   ],
   "source": [
    "np.corrcoef(zp, ks)"
   ]
  },
  {
   "cell_type": "markdown",
   "id": "f514afbf",
   "metadata": {},
   "source": [
    "Коэффициенты корреляции расчитанные по формуле и через функцию библиотеки numpy совпадают."
   ]
  },
  {
   "cell_type": "markdown",
   "id": "13ce2587",
   "metadata": {},
   "source": [
    "# Задача 2"
   ]
  },
  {
   "cell_type": "markdown",
   "id": "17dca42a",
   "metadata": {},
   "source": [
    "## Измерены значения IQ выборки студентов,\n",
    "## обучающихся в местных технических вузах:\n",
    "131, 125, 115, 122, 131, 115, 107, 99, 125, 111.\n",
    "## Известно, что в генеральной совокупности IQ распределен нормально.\n",
    "## Найдите доверительный интервал для математического ожидания с надежностью 0.95."
   ]
  },
  {
   "cell_type": "code",
   "execution_count": 27,
   "id": "eb151d6a",
   "metadata": {},
   "outputs": [
    {
     "data": {
      "text/plain": [
       "118.1"
      ]
     },
     "execution_count": 27,
     "metadata": {},
     "output_type": "execute_result"
    }
   ],
   "source": [
    "X = np.array([131, 125, 115, 122, 131, 115, 107, 99, 125, 111])\n",
    "M = X.mean()\n",
    "M"
   ]
  },
  {
   "cell_type": "code",
   "execution_count": 30,
   "id": "13bb31d0",
   "metadata": {},
   "outputs": [
    {
     "data": {
      "text/plain": [
       "111.21111111111111"
      ]
     },
     "execution_count": 30,
     "metadata": {},
     "output_type": "execute_result"
    }
   ],
   "source": [
    "D1 = np.var(X, ddof=1)\n",
    "D1"
   ]
  },
  {
   "cell_type": "code",
   "execution_count": 29,
   "id": "183442f6",
   "metadata": {},
   "outputs": [
    {
     "data": {
      "text/plain": [
       "10"
      ]
     },
     "execution_count": 29,
     "metadata": {},
     "output_type": "execute_result"
    }
   ],
   "source": [
    "len(X)"
   ]
  },
  {
   "cell_type": "markdown",
   "id": "ac7ad37f",
   "metadata": {},
   "source": [
    "Поскольку неизвестно среднее квадратичное генеральной совокупности, то используем критерий Стьюдента: распределение Стьюдента зависит от степеней свободы (n - 1). α/2 = 0.025"
   ]
  },
  {
   "cell_type": "markdown",
   "id": "3b0fe8eb",
   "metadata": {},
   "source": [
    "По таблице берем параметры 0.975 для p и 9 степеней свободы. Получаем t=2.262"
   ]
  },
  {
   "cell_type": "code",
   "execution_count": 31,
   "id": "19d40f1c",
   "metadata": {},
   "outputs": [
    {
     "data": {
      "text/plain": [
       "110.55660776308164"
      ]
     },
     "execution_count": 31,
     "metadata": {},
     "output_type": "execute_result"
    }
   ],
   "source": [
    "t = 2.262\n",
    "M - t*np.sqrt(D1/10)"
   ]
  },
  {
   "cell_type": "code",
   "execution_count": 32,
   "id": "88e8ddf5",
   "metadata": {},
   "outputs": [
    {
     "data": {
      "text/plain": [
       "125.64339223691834"
      ]
     },
     "execution_count": 32,
     "metadata": {},
     "output_type": "execute_result"
    }
   ],
   "source": [
    "M + t*np.sqrt(D1/10)"
   ]
  },
  {
   "cell_type": "code",
   "execution_count": 33,
   "id": "a6b9c1a5",
   "metadata": {},
   "outputs": [],
   "source": [
    "Ответ: (110.56, 125.64)"
   ]
  },
  {
   "cell_type": "markdown",
   "id": "e67613ae",
   "metadata": {},
   "source": [
    "# Задача 3"
   ]
  },
  {
   "cell_type": "markdown",
   "id": "6cd002d8",
   "metadata": {},
   "source": [
    "## Известно, что рост футболистов в сборной распределен нормально\n",
    "## с дисперсией генеральной совокупности, равной 25 кв.см. Объем выборки равен 27,\n",
    "## среднее выборочное составляет 174.2. Найдите доверительный интервал для математического\n",
    "## ожидания с надежностью 0.95."
   ]
  },
  {
   "cell_type": "markdown",
   "id": "c8ad3873",
   "metadata": {},
   "source": [
    "Поскольку известна дисперсия генеральной совокупности, то используем формулу с z критерием."
   ]
  },
  {
   "cell_type": "code",
   "execution_count": 34,
   "id": "d17741a4",
   "metadata": {},
   "outputs": [
    {
     "data": {
      "text/plain": [
       "5.0"
      ]
     },
     "execution_count": 34,
     "metadata": {},
     "output_type": "execute_result"
    }
   ],
   "source": [
    "S = np.sqrt(25)\n",
    "S"
   ]
  },
  {
   "cell_type": "markdown",
   "id": "cba698f2",
   "metadata": {},
   "source": [
    "z = 1.96(для alpha = 5%)"
   ]
  },
  {
   "cell_type": "code",
   "execution_count": 35,
   "id": "17527c22",
   "metadata": {},
   "outputs": [
    {
     "data": {
      "text/plain": [
       "172.31398912064722"
      ]
     },
     "execution_count": 35,
     "metadata": {},
     "output_type": "execute_result"
    }
   ],
   "source": [
    "m = 174.2\n",
    "n = 27\n",
    "m - 1.96*(S/np.sqrt(n))"
   ]
  },
  {
   "cell_type": "code",
   "execution_count": 36,
   "id": "3ca2fc76",
   "metadata": {},
   "outputs": [
    {
     "data": {
      "text/plain": [
       "176.08601087935276"
      ]
     },
     "execution_count": 36,
     "metadata": {},
     "output_type": "execute_result"
    }
   ],
   "source": [
    "m + 1.96*(S/np.sqrt(n))"
   ]
  },
  {
   "cell_type": "markdown",
   "id": "58a3169b",
   "metadata": {},
   "source": [
    "Ответ: (172.31, 176.09)"
   ]
  }
 ],
 "metadata": {
  "kernelspec": {
   "display_name": "Python 3 (ipykernel)",
   "language": "python",
   "name": "python3"
  },
  "language_info": {
   "codemirror_mode": {
    "name": "ipython",
    "version": 3
   },
   "file_extension": ".py",
   "mimetype": "text/x-python",
   "name": "python",
   "nbconvert_exporter": "python",
   "pygments_lexer": "ipython3",
   "version": "3.9.7"
  }
 },
 "nbformat": 4,
 "nbformat_minor": 5
}
