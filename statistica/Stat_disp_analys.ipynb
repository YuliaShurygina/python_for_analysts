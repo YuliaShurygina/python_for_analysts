{
 "cells": [
  {
   "cell_type": "markdown",
   "id": "4aaddb0c",
   "metadata": {},
   "source": [
    "### Провести дисперсионный анализ для определения того, есть ли различия среднего роста среди взрослых футболистов, хоккеистов и штангистов. Даны значения роста в трех группах случайно выбранных спортсменов:\n",
    "### Футболисты: 173, 175, 180, 178, 177, 185, 183, 182. \n",
    "### Хоккеисты: 177, 179, 180, 188, 177, 172, 171, 184, 180.\n",
    "### Штангисты: 172, 173, 169, 177, 166, 180, 178, 177, 172, 166, 170."
   ]
  },
  {
   "cell_type": "code",
   "execution_count": 1,
   "id": "b3c95776",
   "metadata": {},
   "outputs": [],
   "source": [
    "import numpy as np\n",
    "import matplotlib.pyplot as plt\n",
    "from scipy import stats"
   ]
  },
  {
   "cell_type": "code",
   "execution_count": 3,
   "id": "c2d6f594",
   "metadata": {},
   "outputs": [],
   "source": [
    "football_pl = np.array([173, 175, 180, 178, 177, 185, 183, 182]) \n",
    "hockey_pl = np.array([177, 179, 180, 188, 177, 172, 171, 184, 180]) \n",
    "lifter = np.array([172, 173, 169, 177, 166, 180, 178, 177, 172, 166, 170])\n",
    "from scipy.stats import bartlett"
   ]
  },
  {
   "cell_type": "code",
   "execution_count": 5,
   "id": "b7bbd1af",
   "metadata": {},
   "outputs": [
    {
     "data": {
      "text/plain": [
       "BartlettResult(statistic=0.4640521043406442, pvalue=0.7929254656083131)"
      ]
     },
     "execution_count": 5,
     "metadata": {},
     "output_type": "execute_result"
    }
   ],
   "source": [
    "stats.bartlett(football_pl, hockey_pl, lifter)"
   ]
  },
  {
   "cell_type": "code",
   "execution_count": 6,
   "id": "3863dcf7",
   "metadata": {},
   "outputs": [
    {
     "data": {
      "text/plain": [
       "ShapiroResult(statistic=0.9775081276893616, pvalue=0.9495397210121155)"
      ]
     },
     "execution_count": 6,
     "metadata": {},
     "output_type": "execute_result"
    }
   ],
   "source": [
    "stats.shapiro(football_pl)"
   ]
  },
  {
   "cell_type": "code",
   "execution_count": 7,
   "id": "35f7df5e",
   "metadata": {},
   "outputs": [
    {
     "data": {
      "text/plain": [
       "ShapiroResult(statistic=0.9579195976257324, pvalue=0.7763133645057678)"
      ]
     },
     "execution_count": 7,
     "metadata": {},
     "output_type": "execute_result"
    }
   ],
   "source": [
    "stats.shapiro(hockey_pl)"
   ]
  },
  {
   "cell_type": "code",
   "execution_count": 8,
   "id": "3aecafe0",
   "metadata": {},
   "outputs": [
    {
     "data": {
      "text/plain": [
       "ShapiroResult(statistic=0.93868088722229, pvalue=0.5051169991493225)"
      ]
     },
     "execution_count": 8,
     "metadata": {},
     "output_type": "execute_result"
    }
   ],
   "source": [
    "stats.shapiro(lifter)"
   ]
  },
  {
   "cell_type": "markdown",
   "id": "cb11511f",
   "metadata": {},
   "source": [
    "Тесты Шапиро-Уилка показывают, что все 3 выборки соответствуют нормальному распределению прри alpha = 0.05, т.к. pvalue > alpha. Тест Бартлетта показывает, что рассматриваемые выборки получены из генеральных совокупностей, обладающих одинаковыми дисперсиями( также pvalue > alpha).  Можем применять формулы для дисперсионного анализа. "
   ]
  },
  {
   "cell_type": "code",
   "execution_count": 10,
   "id": "a1c59bc1",
   "metadata": {},
   "outputs": [
    {
     "data": {
      "text/plain": [
       "8"
      ]
     },
     "execution_count": 10,
     "metadata": {},
     "output_type": "execute_result"
    }
   ],
   "source": [
    "k = 3\n",
    "f_len = len(football_pl)\n",
    "f_len"
   ]
  },
  {
   "cell_type": "code",
   "execution_count": 11,
   "id": "f770a85a",
   "metadata": {},
   "outputs": [
    {
     "data": {
      "text/plain": [
       "9"
      ]
     },
     "execution_count": 11,
     "metadata": {},
     "output_type": "execute_result"
    }
   ],
   "source": [
    "h_len = len(hockey_pl)\n",
    "h_len"
   ]
  },
  {
   "cell_type": "code",
   "execution_count": 12,
   "id": "a1f3bb4c",
   "metadata": {},
   "outputs": [
    {
     "data": {
      "text/plain": [
       "11"
      ]
     },
     "execution_count": 12,
     "metadata": {},
     "output_type": "execute_result"
    }
   ],
   "source": [
    "l_len = len(lifter)\n",
    "l_len"
   ]
  },
  {
   "cell_type": "code",
   "execution_count": 13,
   "id": "d7161021",
   "metadata": {},
   "outputs": [
    {
     "data": {
      "text/plain": [
       "28"
      ]
     },
     "execution_count": 13,
     "metadata": {},
     "output_type": "execute_result"
    }
   ],
   "source": [
    "n = l_len + h_len + f_len\n",
    "n"
   ]
  },
  {
   "cell_type": "code",
   "execution_count": 14,
   "id": "7b20aad8",
   "metadata": {},
   "outputs": [
    {
     "data": {
      "text/plain": [
       "179.125"
      ]
     },
     "execution_count": 14,
     "metadata": {},
     "output_type": "execute_result"
    }
   ],
   "source": [
    "f_mean_1 = np.mean(football_pl)\n",
    "f_mean_1"
   ]
  },
  {
   "cell_type": "code",
   "execution_count": 15,
   "id": "679be8d4",
   "metadata": {},
   "outputs": [
    {
     "data": {
      "text/plain": [
       "178.66666666666666"
      ]
     },
     "execution_count": 15,
     "metadata": {},
     "output_type": "execute_result"
    }
   ],
   "source": [
    "h_mean_1 = np.mean(hockey_pl)\n",
    "h_mean_1"
   ]
  },
  {
   "cell_type": "code",
   "execution_count": 16,
   "id": "a91a827b",
   "metadata": {},
   "outputs": [
    {
     "data": {
      "text/plain": [
       "172.72727272727272"
      ]
     },
     "execution_count": 16,
     "metadata": {},
     "output_type": "execute_result"
    }
   ],
   "source": [
    "l_mean_1 = np.mean(lifter)\n",
    "l_mean_1"
   ]
  },
  {
   "cell_type": "code",
   "execution_count": 20,
   "id": "f66dc598",
   "metadata": {},
   "outputs": [
    {
     "data": {
      "text/plain": [
       "array([173, 175, 180, 178, 177, 185, 183, 182, 177, 179, 180, 188, 177,\n",
       "       172, 171, 184, 180, 172, 173, 169, 177, 166, 180, 178, 177, 172,\n",
       "       166, 170])"
      ]
     },
     "execution_count": 20,
     "metadata": {},
     "output_type": "execute_result"
    }
   ],
   "source": [
    "total = np.array([173, 175, 180, 178, 177, 185, 183, 182, 177, 179, 180, 188, 177, 172, 171, 184, 180, 172, 173, 169, 177, 166, 180, 178, 177, 172, 166, 170])\n",
    "total"
   ]
  },
  {
   "cell_type": "code",
   "execution_count": 21,
   "id": "9d5f1665",
   "metadata": {},
   "outputs": [
    {
     "data": {
      "text/plain": [
       "176.46428571428572"
      ]
     },
     "execution_count": 21,
     "metadata": {},
     "output_type": "execute_result"
    }
   ],
   "source": [
    "mean_total = np.mean(total)\n",
    "mean_total"
   ]
  },
  {
   "cell_type": "code",
   "execution_count": 22,
   "id": "12437cf0",
   "metadata": {},
   "outputs": [
    {
     "data": {
      "text/plain": [
       "830.9642857142854"
      ]
     },
     "execution_count": 22,
     "metadata": {},
     "output_type": "execute_result"
    }
   ],
   "source": [
    "np.sum((total - mean_total)**2)"
   ]
  },
  {
   "cell_type": "code",
   "execution_count": 23,
   "id": "97c59d91",
   "metadata": {},
   "outputs": [
    {
     "data": {
      "text/plain": [
       "253.9074675324678"
      ]
     },
     "execution_count": 23,
     "metadata": {},
     "output_type": "execute_result"
    }
   ],
   "source": [
    "S_f = np.sum((f_mean_1 - mean_total)**2)*f_len + np.sum((h_mean_1 - mean_total)**2)*h_len + np.sum((l_mean_1 - mean_total)**2)*l_len\n",
    "S_f"
   ]
  },
  {
   "cell_type": "code",
   "execution_count": 24,
   "id": "3fe921c4",
   "metadata": {},
   "outputs": [
    {
     "data": {
      "text/plain": [
       "577.0568181818182"
      ]
     },
     "execution_count": 24,
     "metadata": {},
     "output_type": "execute_result"
    }
   ],
   "source": [
    "S_ost = np.sum((football_pl - f_mean_1 )**2) + np.sum((hockey_pl - h_mean_1)**2) + np.sum((lifter - l_mean_1)**2) \n",
    "S_ost"
   ]
  },
  {
   "cell_type": "code",
   "execution_count": 25,
   "id": "54b19319",
   "metadata": {},
   "outputs": [
    {
     "data": {
      "text/plain": [
       "830.964285714286"
      ]
     },
     "execution_count": 25,
     "metadata": {},
     "output_type": "execute_result"
    }
   ],
   "source": [
    "S_f + S_ost"
   ]
  },
  {
   "cell_type": "code",
   "execution_count": 26,
   "id": "caf89a06",
   "metadata": {},
   "outputs": [
    {
     "data": {
      "text/plain": [
       "126.9537337662339"
      ]
     },
     "execution_count": 26,
     "metadata": {},
     "output_type": "execute_result"
    }
   ],
   "source": [
    "D_f = S_f/(k-1)\n",
    "D_f"
   ]
  },
  {
   "cell_type": "code",
   "execution_count": 27,
   "id": "5fa71a59",
   "metadata": {},
   "outputs": [
    {
     "data": {
      "text/plain": [
       "23.08227272727273"
      ]
     },
     "execution_count": 27,
     "metadata": {},
     "output_type": "execute_result"
    }
   ],
   "source": [
    "D_ost = S_ost/ (n-k)\n",
    "D_ost"
   ]
  },
  {
   "cell_type": "code",
   "execution_count": 28,
   "id": "0aeb0c1c",
   "metadata": {},
   "outputs": [
    {
     "data": {
      "text/plain": [
       "5.500053450812598"
      ]
     },
     "execution_count": 28,
     "metadata": {},
     "output_type": "execute_result"
    }
   ],
   "source": [
    "F_n = D_f/D_ost\n",
    "F_n"
   ]
  },
  {
   "cell_type": "code",
   "execution_count": 29,
   "id": "33897378",
   "metadata": {},
   "outputs": [
    {
     "data": {
      "text/plain": [
       "F_onewayResult(statistic=5.500053450812596, pvalue=0.010482206918698694)"
      ]
     },
     "execution_count": 29,
     "metadata": {},
     "output_type": "execute_result"
    }
   ],
   "source": [
    "f = stats.f_oneway(football_pl, hockey_pl, lifter)\n",
    "f"
   ]
  },
  {
   "cell_type": "markdown",
   "id": "c008735c",
   "metadata": {},
   "source": [
    "Расчетные значения и вычисления с помощью функции совпали."
   ]
  },
  {
   "cell_type": "code",
   "execution_count": 30,
   "id": "28d70796",
   "metadata": {},
   "outputs": [],
   "source": [
    "F_teor = 3.38 # для к1 = 2 к2 = 25"
   ]
  },
  {
   "cell_type": "markdown",
   "id": "700e7396",
   "metadata": {},
   "source": [
    "F_n > F_teor => расчетное значение F_n попадает в область принятия альтернативной гипотезы H1. Т.е. мы делаем вывод, что в каждом виде спорта средний рост спортсменов статистически значимо различается.\n",
    "Также pvalue < alpha( 0.05), также это свидетельствут в пользу альтернативной гипотезы."
   ]
  },
  {
   "cell_type": "code",
   "execution_count": 31,
   "id": "a4edc00d",
   "metadata": {},
   "outputs": [],
   "source": [
    "from statsmodels.stats.multicomp import pairwise_tukeyhsd\n",
    "import pandas as pd"
   ]
  },
  {
   "cell_type": "code",
   "execution_count": 32,
   "id": "cea3e8b3",
   "metadata": {},
   "outputs": [
    {
     "name": "stdout",
     "output_type": "stream",
     "text": [
      "  Multiple Comparison of Means - Tukey HSD, FWER=0.05   \n",
      "========================================================\n",
      " group1   group2 meandiff p-adj   lower    upper  reject\n",
      "--------------------------------------------------------\n",
      "football  hockey  -0.4583    0.9  -6.2722  5.3555  False\n",
      "football lifting  -6.3977 0.0218 -11.9573 -0.8382   True\n",
      "  hockey lifting  -5.9394 0.0283 -11.3172 -0.5616   True\n",
      "--------------------------------------------------------\n"
     ]
    }
   ],
   "source": [
    "df = pd.DataFrame({'height': [173, 175, 180, 178, 177, 185, 183, 182, 177, 179, 180, 188, 177,\n",
    "       172, 171, 184, 180, 172, 173, 169, 177, 166, 180, 178, 177, 172,\n",
    "       166, 170],\n",
    "                  'sport': np.repeat(['football', 'hockey','lifting'], repeats=[8, 9, 11])})\n",
    "tukey = pairwise_tukeyhsd(endog=df['height'],\n",
    "                          groups = df['sport'],\n",
    "                          alpha = 0.05)\n",
    "print(tukey)"
   ]
  },
  {
   "cell_type": "markdown",
   "id": "b54d2fd3",
   "metadata": {},
   "source": [
    "Нет статистически значимых различий только между футболистами и хоккеистами. Между футболистами и штангистами и между хоккеистами и штангистами  имеем статистически значимые различия в росте."
   ]
  },
  {
   "cell_type": "code",
   "execution_count": null,
   "id": "8e882b6d",
   "metadata": {},
   "outputs": [],
   "source": []
  }
 ],
 "metadata": {
  "kernelspec": {
   "display_name": "Python 3 (ipykernel)",
   "language": "python",
   "name": "python3"
  },
  "language_info": {
   "codemirror_mode": {
    "name": "ipython",
    "version": 3
   },
   "file_extension": ".py",
   "mimetype": "text/x-python",
   "name": "python",
   "nbconvert_exporter": "python",
   "pygments_lexer": "ipython3",
   "version": "3.9.7"
  }
 },
 "nbformat": 4,
 "nbformat_minor": 5
}
