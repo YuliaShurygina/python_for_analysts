{
 "cells": [
  {
   "cell_type": "markdown",
   "id": "902d5b39",
   "metadata": {},
   "source": [
    "## 1-4 задачи решать с помощью функций, 5ю вручную\n",
    "## Выберете тест и проверьте, есть ли различия между выборками:\n",
    "## Задача 1"
   ]
  },
  {
   "cell_type": "markdown",
   "id": "2aabe942",
   "metadata": {},
   "source": [
    "### 1 ) Даны две независимые выборки. Не соблюдается условие нормальности\n",
    "#### x1 380,420, 290\n",
    "#### y1 140,360,200,900\n",
    "#### Сделайте вывод по результатам, полученным с помощью функции"
   ]
  },
  {
   "cell_type": "markdown",
   "id": "c90852ee",
   "metadata": {},
   "source": [
    "Так как не соблюдается условие нормальности, выборки очень маленького объема, а также количество выборок равно 2 и они независимы, выбираем критерий Манна-Уитни."
   ]
  },
  {
   "cell_type": "code",
   "execution_count": 16,
   "id": "c79a8f72",
   "metadata": {},
   "outputs": [
    {
     "data": {
      "text/plain": [
       "MannwhitneyuResult(statistic=8.0, pvalue=0.6285714285714286)"
      ]
     },
     "execution_count": 16,
     "metadata": {},
     "output_type": "execute_result"
    }
   ],
   "source": [
    "import numpy as np\n",
    "import scipy.stats as stats\n",
    "X1= np.array([380,420, 290])\n",
    "Y1= np.array ([140,360,200,900])\n",
    "stats.mannwhitneyu(X1, Y1)\n",
    "\n",
    "\n"
   ]
  },
  {
   "cell_type": "markdown",
   "id": "bcfdac38",
   "metadata": {},
   "source": [
    "Принимаем alpha = 0.05. pvalue > alpha, поэтому у нас нет оснований отвергнуть нулевую гипотезу. Статистически значимых различий между выборками нет."
   ]
  },
  {
   "cell_type": "markdown",
   "id": "39528d41",
   "metadata": {},
   "source": [
    "Расчет критерия Манна-Уитни:\n",
    "380 140,360,200,900  4 -1 = 3\n",
    "420 140,360,200,900  4 - 1 = 3\n",
    "290 140,360,200,900  3 - 1 = 2\n",
    "Критерий Манн-Уитни 3 + 3 + 2 = 8 \n",
    "Расчеты совпали"
   ]
  },
  {
   "cell_type": "markdown",
   "id": "b35eabaf",
   "metadata": {},
   "source": [
    "## 2 ) Исследовалось влияние препарата на уровень давления пациентов. Сначала измерялось давление до приема препарата, потом через 10 минут и через 30 минут. Есть ли статистически значимые различия?\n",
    "1е измерение до приема препарата: 150, 160, 165, 145, 155\n",
    "\n",
    "2е измерение через 10 минут: 140, 155, 150, 130, 135\n",
    "\n",
    "3е измерение через 30 минут: 130, 130, 120, 130, 125"
   ]
  },
  {
   "cell_type": "markdown",
   "id": "5f4b2b0e",
   "metadata": {},
   "source": [
    "Так как количество выборок равно 3 и они зависимы(люди одни и те же), выбираем критерий Фридмана."
   ]
  },
  {
   "cell_type": "code",
   "execution_count": 18,
   "id": "3b4961f7",
   "metadata": {},
   "outputs": [
    {
     "data": {
      "text/plain": [
       "FriedmanchisquareResult(statistic=9.578947368421062, pvalue=0.00831683351100441)"
      ]
     },
     "execution_count": 18,
     "metadata": {},
     "output_type": "execute_result"
    }
   ],
   "source": [
    "A= np.array([150, 160, 165, 145, 155])\n",
    "\n",
    "B= np.array([140, 155, 150, 130, 135])\n",
    " \n",
    "C=np.array([130, 130, 120, 130, 125])\n",
    "\n",
    "stats.friedmanchisquare(A, B, C)"
   ]
  },
  {
   "cell_type": "markdown",
   "id": "9fff39ee",
   "metadata": {},
   "source": [
    "Принимаем alpha = 0.05. pvalue < alpha, поэтому у нас есть основания для принятия альтернативной гипотезы. Мы получили статистически значимые различия между выборками. Препарат очевидно снижает давление."
   ]
  },
  {
   "cell_type": "markdown",
   "id": "26e335a1",
   "metadata": {},
   "source": [
    "## 3 ) Сравните 1 и 2 е измерения, предполагая, что 3го измерения через 30 минут не было.\n"
   ]
  },
  {
   "cell_type": "code",
   "execution_count": null,
   "id": "a27a5cd1",
   "metadata": {},
   "outputs": [],
   "source": [
    "Так как количество выборок теперь равно 2 и они зависимы(люди одни и те же), выбираем критерий Уилкоксона."
   ]
  },
  {
   "cell_type": "code",
   "execution_count": 31,
   "id": "8b50c272",
   "metadata": {},
   "outputs": [
    {
     "data": {
      "text/plain": [
       "WilcoxonResult(statistic=0.0, pvalue=0.0625)"
      ]
     },
     "execution_count": 31,
     "metadata": {},
     "output_type": "execute_result"
    }
   ],
   "source": [
    "stats.wilcoxon(A, B)"
   ]
  },
  {
   "cell_type": "markdown",
   "id": "d25d56c6",
   "metadata": {},
   "source": [
    "Принимаем alpha = 0.05. pvalue > alpha, поэтому у нас нет оснований отвергнуть нулевую гипотезу. Мы не получили статистически значимых различий."
   ]
  },
  {
   "cell_type": "code",
   "execution_count": 32,
   "id": "c285c464",
   "metadata": {},
   "outputs": [
    {
     "data": {
      "text/plain": [
       "array([-10,  -5, -15, -15, -20])"
      ]
     },
     "execution_count": 32,
     "metadata": {},
     "output_type": "execute_result"
    }
   ],
   "source": [
    "B - A"
   ]
  },
  {
   "cell_type": "markdown",
   "id": "4fee3cf3",
   "metadata": {},
   "source": [
    "Все числа отрицательные поэтому Критерий Уилкоксона равен 0. Что совпадает с решением функцией stats.wilcoxon. \n",
    " "
   ]
  },
  {
   "cell_type": "markdown",
   "id": "1278b339",
   "metadata": {},
   "source": [
    "## 4) Даны 3 группы учеников плавания.\n",
    "### В 1 группе время на дистанцию 50 м составляют:56, 60, 62, 55, 71, 67, 59, 58, 64, 67\n",
    "### Вторая группа : 57, 58, 69, 48, 72, 70, 68, 71, 50, 53\n",
    "### Третья группа: 57, 67, 49, 48, 47, 55, 66, 51, 54"
   ]
  },
  {
   "cell_type": "markdown",
   "id": "cf857437",
   "metadata": {},
   "source": [
    "Так как количество выборок равно 3 и они независимы(люди в каждой группе разные), выбираем критерий Крускала-Уоллиса."
   ]
  },
  {
   "cell_type": "code",
   "execution_count": 33,
   "id": "dd957522",
   "metadata": {},
   "outputs": [
    {
     "data": {
      "text/plain": [
       "KruskalResult(statistic=5.465564058257224, pvalue=0.0650380998590494)"
      ]
     },
     "execution_count": 33,
     "metadata": {},
     "output_type": "execute_result"
    }
   ],
   "source": [
    "gr1 =([56, 60, 62, 55, 71, 67, 59, 58, 64, 67])\n",
    "gr2 = ([57, 58, 69, 48, 72, 70, 68, 71, 50, 53])\n",
    "gr3 = ([57, 67, 49, 48, 47, 55, 66, 51, 54])\n",
    "\n",
    "stats.kruskal(gr1, gr2, gr3)"
   ]
  },
  {
   "cell_type": "markdown",
   "id": "195f7a65",
   "metadata": {},
   "source": [
    "Принимаем alpha = 0.05. pvalue > alpha, поэтому у нас нет оснований отвергнуть нулевую гипотезу. Мы не получили статистически значимых различий. Статистически значимых различий по времени на дистанцию 50 м. между тремя группами необнаружены."
   ]
  },
  {
   "cell_type": "markdown",
   "id": "2e6a72db",
   "metadata": {},
   "source": [
    "## 5) Заявляется, что партия изготавливается со средним арифметическим 2,5 см. Проверить данную гипотезу, если известно, что размеры изделий подчинены нормальному закону распределения. Объем выборки 10, уровень статистической значимости 5%\n",
    "2.51, 2.35, 2.74, 2.56, 2.40, 2.36, 2.65, 2.7, 2.67, 2.34"
   ]
  },
  {
   "cell_type": "markdown",
   "id": "f3231db5",
   "metadata": {},
   "source": [
    "Так как размеры изделий подчинены нормальному закону распределения, а дисперсия генеральной совокупности неизвестна используем критерий Стьюдента.\n"
   ]
  },
  {
   "cell_type": "code",
   "execution_count": 42,
   "id": "e9ce1c63",
   "metadata": {},
   "outputs": [
    {
     "data": {
      "text/plain": [
       "2.5279999999999996"
      ]
     },
     "execution_count": 42,
     "metadata": {},
     "output_type": "execute_result"
    }
   ],
   "source": [
    "Size= np.array([2.51, 2.35, 2.74, 2.56, 2.40, 2.36, 2.65, 2.7, 2.67, 2.34])\n",
    "def find_average(S):\n",
    "    Sum = 0\n",
    "    for i in range(len(S)):\n",
    "        Sum += S[i]\n",
    "    return Sum/len(S)\n",
    "X = find_average(Size)\n",
    "X"
   ]
  },
  {
   "cell_type": "code",
   "execution_count": 45,
   "id": "2c0ffe9d",
   "metadata": {},
   "outputs": [
    {
     "data": {
      "text/plain": [
       "0.1572542173961923"
      ]
     },
     "execution_count": 45,
     "metadata": {},
     "output_type": "execute_result"
    }
   ],
   "source": [
    "def find_std(S, X):\n",
    "    Sum = 0\n",
    "    for i in range(len(S)):\n",
    "        Sum += (S[i] - X)**2\n",
    "    return np.sqrt(Sum/(len(S) -1))\n",
    "S = find_std(Size, X)\n",
    "S"
   ]
  },
  {
   "cell_type": "markdown",
   "id": "31b275d5",
   "metadata": {},
   "source": [
    "Проверка:"
   ]
  },
  {
   "cell_type": "code",
   "execution_count": 50,
   "id": "f0aef014",
   "metadata": {},
   "outputs": [
    {
     "data": {
      "text/plain": [
       "0.1572542173961923"
      ]
     },
     "execution_count": 50,
     "metadata": {},
     "output_type": "execute_result"
    }
   ],
   "source": [
    "S1 = np.std(Size, ddof = 1)\n",
    "S1\n"
   ]
  },
  {
   "cell_type": "code",
   "execution_count": 51,
   "id": "cb0a8996",
   "metadata": {},
   "outputs": [
    {
     "data": {
      "text/plain": [
       "2.5279999999999996"
      ]
     },
     "execution_count": 51,
     "metadata": {},
     "output_type": "execute_result"
    }
   ],
   "source": [
    "X1 = Size.mean()\n",
    "X1"
   ]
  },
  {
   "cell_type": "markdown",
   "id": "53621927",
   "metadata": {},
   "source": [
    "Верно, значения найдены корректно."
   ]
  },
  {
   "cell_type": "code",
   "execution_count": 56,
   "id": "5431ef6c",
   "metadata": {},
   "outputs": [
    {
     "data": {
      "text/plain": [
       "0.5630613661802959"
      ]
     },
     "execution_count": 56,
     "metadata": {},
     "output_type": "execute_result"
    }
   ],
   "source": [
    "T  = (X - 2.5)/(S/np.sqrt(10)) \n",
    "T"
   ]
  },
  {
   "cell_type": "markdown",
   "id": "890e6327",
   "metadata": {},
   "source": [
    "По таблице критических точек распределения Стьюдента найдем критическую точку по уровню значимости α = 0,05 и числу степеней свободы k = 9 , откуда t ≈ 1.833. (При двустороннем тесте alpha = 0,025  t ≈ 2.262)\n",
    "Так как T набл = 0.563<1.833 = t,   то можно принять нулевую гипотезу о том ,что изделия соответствуют заявленному размеру. \n",
    "ОТВЕТ: Статистически значимых различий нет.\n"
   ]
  },
  {
   "cell_type": "code",
   "execution_count": null,
   "id": "f32cef48",
   "metadata": {},
   "outputs": [],
   "source": []
  }
 ],
 "metadata": {
  "kernelspec": {
   "display_name": "Python 3 (ipykernel)",
   "language": "python",
   "name": "python3"
  },
  "language_info": {
   "codemirror_mode": {
    "name": "ipython",
    "version": 3
   },
   "file_extension": ".py",
   "mimetype": "text/x-python",
   "name": "python",
   "nbconvert_exporter": "python",
   "pygments_lexer": "ipython3",
   "version": "3.9.7"
  }
 },
 "nbformat": 4,
 "nbformat_minor": 5
}
