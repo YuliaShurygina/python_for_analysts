{
 "cells": [
  {
   "cell_type": "markdown",
   "id": "2e53561f",
   "metadata": {},
   "source": [
    "## Задача 1\n",
    "Даны значения величины заработной платы заемщиков банка (zp) и значения их поведенческого кредитного скоринга (ks): zp = [35, 45, 190, 200, 40, 70, 54, 150, 120, 110], ks = [401, 574, 874, 919, 459, 739, 653, 902, 746, 832]. Используя математические операции, посчитать коэффициенты линейной регрессии, приняв за X заработную плату (то есть, zp - признак), а за y - значения скорингового балла (то есть, ks - целевая переменная). Произвести расчет как с использованием intercept, так и без."
   ]
  },
  {
   "cell_type": "code",
   "execution_count": 1,
   "id": "48c06dc0",
   "metadata": {},
   "outputs": [],
   "source": [
    "zp = [35, 45, 190, 200, 40, 70, 54, 150, 120, 110] # x\n",
    "ks = [401, 574, 874, 919, 459, 739, 653, 902, 746, 832]\n"
   ]
  },
  {
   "cell_type": "markdown",
   "id": "d23bc2af",
   "metadata": {},
   "source": [
    "### Метод №1 Формулы"
   ]
  },
  {
   "cell_type": "code",
   "execution_count": 2,
   "id": "33cb6481",
   "metadata": {},
   "outputs": [],
   "source": [
    "import numpy as np\n",
    "import matplotlib.pyplot as plt\n",
    "from scipy import stats\n",
    "zp = np.array([35, 45, 190, 200, 40, 70, 54, 150, 120, 110]) \n",
    "ks = np.array([401, 574, 874, 919, 459, 739, 653, 902, 746, 832])\n",
    "\n"
   ]
  },
  {
   "cell_type": "code",
   "execution_count": 3,
   "id": "572ca67f",
   "metadata": {},
   "outputs": [
    {
     "data": {
      "text/plain": [
       "2.6205388824027653"
      ]
     },
     "execution_count": 3,
     "metadata": {},
     "output_type": "execute_result"
    }
   ],
   "source": [
    "n = len(zp)\n",
    "b1 = (n*np.sum(zp*ks) - np.sum(zp)*np.sum(ks))/(n*np.sum(zp**2)-np.sum(zp)**2)\n",
    "b1"
   ]
  },
  {
   "cell_type": "code",
   "execution_count": 4,
   "id": "93aeca8d",
   "metadata": {},
   "outputs": [
    {
     "data": {
      "text/plain": [
       "444.17735732435955"
      ]
     },
     "execution_count": 4,
     "metadata": {},
     "output_type": "execute_result"
    }
   ],
   "source": [
    "b0 = np.mean(ks) - b1*np.mean(zp)\n",
    "b0"
   ]
  },
  {
   "cell_type": "code",
   "execution_count": 5,
   "id": "c0a978ea",
   "metadata": {},
   "outputs": [
    {
     "data": {
      "text/plain": [
       "array([535.89621821, 562.10160703, 942.07974498, 968.2851338 ,\n",
       "       548.99891262, 627.61507909, 585.68645697, 837.25818968,\n",
       "       758.64202321, 732.43663439])"
      ]
     },
     "execution_count": 5,
     "metadata": {},
     "output_type": "execute_result"
    }
   ],
   "source": [
    "y_pred = b0 + b1*zp\n",
    "y_pred"
   ]
  },
  {
   "cell_type": "code",
   "execution_count": 6,
   "id": "325a0990",
   "metadata": {},
   "outputs": [
    {
     "data": {
      "text/plain": [
       "<function matplotlib.pyplot.show(close=None, block=None)>"
      ]
     },
     "execution_count": 6,
     "metadata": {},
     "output_type": "execute_result"
    },
    {
     "data": {
      "image/png": "[encoded data removed]",
      "text/plain": [
       "<Figure size 432x288 with 1 Axes>"
      ]
     },
     "metadata": {
      "needs_background": "light"
     },
     "output_type": "display_data"
    }
   ],
   "source": [
    "plt.title('Модель линейной регрессии')\n",
    "plt.xlabel('zp')\n",
    "plt.ylabel('ks')\n",
    "plt.scatter(zp, ks)\n",
    "\n",
    "plt.plot(zp, y_pred)\n",
    "plt.show"
   ]
  },
  {
   "cell_type": "markdown",
   "id": "c0d51390",
   "metadata": {},
   "source": [
    "### Матричный метод"
   ]
  },
  {
   "cell_type": "code",
   "execution_count": 7,
   "id": "acd50115",
   "metadata": {},
   "outputs": [
    {
     "data": {
      "text/plain": [
       "array([[ 35],\n",
       "       [ 45],\n",
       "       [190],\n",
       "       [200],\n",
       "       [ 40],\n",
       "       [ 70],\n",
       "       [ 54],\n",
       "       [150],\n",
       "       [120],\n",
       "       [110]])"
      ]
     },
     "execution_count": 7,
     "metadata": {},
     "output_type": "execute_result"
    }
   ],
   "source": [
    "x = zp.reshape((len(zp),1))\n",
    "x"
   ]
  },
  {
   "cell_type": "code",
   "execution_count": 8,
   "id": "1a759aa7",
   "metadata": {},
   "outputs": [
    {
     "data": {
      "text/plain": [
       "array([[401],\n",
       "       [574],\n",
       "       [874],\n",
       "       [919],\n",
       "       [459],\n",
       "       [739],\n",
       "       [653],\n",
       "       [902],\n",
       "       [746],\n",
       "       [832]])"
      ]
     },
     "execution_count": 8,
     "metadata": {},
     "output_type": "execute_result"
    }
   ],
   "source": [
    "y = ks.reshape((len(ks),1))\n",
    "y"
   ]
  },
  {
   "cell_type": "code",
   "execution_count": 9,
   "id": "b4c0d193",
   "metadata": {},
   "outputs": [
    {
     "data": {
      "text/plain": [
       "array([[  1.,  35.],\n",
       "       [  1.,  45.],\n",
       "       [  1., 190.],\n",
       "       [  1., 200.],\n",
       "       [  1.,  40.],\n",
       "       [  1.,  70.],\n",
       "       [  1.,  54.],\n",
       "       [  1., 150.],\n",
       "       [  1., 120.],\n",
       "       [  1., 110.]])"
      ]
     },
     "execution_count": 9,
     "metadata": {},
     "output_type": "execute_result"
    }
   ],
   "source": [
    "X = np.hstack([np.ones((len(zp), 1)), x])\n",
    "X"
   ]
  },
  {
   "cell_type": "code",
   "execution_count": 10,
   "id": "b9268c9c",
   "metadata": {},
   "outputs": [
    {
     "data": {
      "text/plain": [
       "array([[444.17735732],\n",
       "       [  2.62053888]])"
      ]
     },
     "execution_count": 10,
     "metadata": {},
     "output_type": "execute_result"
    }
   ],
   "source": [
    "B = np.dot(np.linalg.inv(np.dot(X.T, X)), X.T @ y)\n",
    "B"
   ]
  },
  {
   "cell_type": "markdown",
   "id": "29129e94",
   "metadata": {},
   "source": [
    "### Без интерсепт (не добавляем единицы в матрицу)"
   ]
  },
  {
   "cell_type": "code",
   "execution_count": 26,
   "id": "14766c3e",
   "metadata": {},
   "outputs": [
    {
     "data": {
      "text/plain": [
       "array([[5.88982042]])"
      ]
     },
     "execution_count": 26,
     "metadata": {},
     "output_type": "execute_result"
    }
   ],
   "source": [
    "B = np.dot(np.linalg.inv(np.dot(x.T, x)), x.T @ y)\n",
    "B"
   ]
  },
  {
   "cell_type": "markdown",
   "id": "b0daa3de",
   "metadata": {},
   "source": [
    "#### Коэффициенты линейной регрессии,посчитанные двумя методами, с учетом intercept совпали.\n",
    "#### Модель линейной регрессии: y_pred = 444.177 + 2.621*zp\n",
    "#### Без интерсепт:  y_pred = 5.8898*zp"
   ]
  },
  {
   "cell_type": "markdown",
   "id": "cf8b3638",
   "metadata": {},
   "source": [
    "### Задача 2\n",
    "#### Посчитать коэффициент линейной регрессии при заработной плате (zp), используя градиентный спуск (без intercept)."
   ]
  },
  {
   "cell_type": "code",
   "execution_count": 14,
   "id": "1bc53bb0",
   "metadata": {},
   "outputs": [
    {
     "name": "stdout",
     "output_type": "stream",
     "text": [
      "B1 = 2.5934004\n",
      "B1 = 2.6842273200987203\n",
      "B1 = 2.7725516679025763\n",
      "B1 = 2.858442397286523\n",
      "B1 = 2.9419665622256077\n",
      "B1 = 3.023189369143293\n",
      "B1 = 3.102174227817414\n",
      "B1 = 3.178982800883515\n",
      "B1 = 3.2536750519742115\n",
      "B1 = 3.3263092925321556\n"
     ]
    }
   ],
   "source": [
    "def mse_(B1, y = ks, x = zp, n = len(zp)):\n",
    "    return np.sum((B1*x - y)**2)/n\n",
    "alpha = 1e-6\n",
    "B1 = 2.5\n",
    "n = len(zp)\n",
    "#mse = 1/n *np.sum((B1*x - y)**2)\n",
    "for i in range(10):\n",
    "    B1 -= alpha*(2/n)*np.sum((B1*zp - ks)*zp)\n",
    "    print('B1 = {}'.format(B1))"
   ]
  },
  {
   "cell_type": "code",
   "execution_count": 16,
   "id": "609dae37",
   "metadata": {},
   "outputs": [
    {
     "name": "stdout",
     "output_type": "stream",
     "text": [
      "B1 = 5.889820420132673\n",
      "mse = 56516.85841571943\n",
      "B1 = 5.889820420132673\n",
      "mse = 56516.85841571943\n",
      "B1 = 5.889820420132673\n",
      "mse = 56516.85841571943\n",
      "B1 = 5.889820420132673\n",
      "mse = 56516.85841571943\n",
      "B1 = 5.889820420132673\n",
      "mse = 56516.85841571943\n",
      "B1 = 5.889820420132673\n",
      "mse = 56516.85841571943\n"
     ]
    }
   ],
   "source": [
    "for i in range(3000):\n",
    "    B1 -= alpha*(2/n)*np.sum((B1*zp - ks)*zp)\n",
    "    if i % 500 == 0:\n",
    "        print('B1 = {}'.format(B1))\n",
    "        print('mse = {}'.format(mse_(B1)))"
   ]
  },
  {
   "cell_type": "code",
   "execution_count": 17,
   "id": "e3b2a807",
   "metadata": {},
   "outputs": [
    {
     "data": {
      "text/plain": [
       "56516.858421464"
      ]
     },
     "execution_count": 17,
     "metadata": {},
     "output_type": "execute_result"
    }
   ],
   "source": [
    "mse_(5.8898)"
   ]
  },
  {
   "cell_type": "markdown",
   "id": "5d047c42",
   "metadata": {},
   "source": [
    "Без intercept модель линейной регрессии: y_pred = 5.8898*zp"
   ]
  },
  {
   "cell_type": "code",
   "execution_count": 25,
   "id": "6f34c68c",
   "metadata": {},
   "outputs": [
    {
     "data": {
      "text/plain": [
       "<function matplotlib.pyplot.show(close=None, block=None)>"
      ]
     },
     "execution_count": 25,
     "metadata": {},
     "output_type": "execute_result"
    },
    {
     "data": {
      "image/png": "[encoded data removed]",
      "text/plain": [
       "<Figure size 432x288 with 1 Axes>"
      ]
     },
     "metadata": {
      "needs_background": "light"
     },
     "output_type": "display_data"
    }
   ],
   "source": [
    "plt.title('Модель линейной регрессии')\n",
    "plt.xlabel('zp')\n",
    "plt.ylabel('ks')\n",
    "\n",
    "# fig, ax = plt.subplots()\n",
    "# ax.scatter(zp, ks, 'реальные данные')\n",
    "# ax.plot(zp, y_pred, label = 'c intersept')\n",
    "# ax.plot(zp, 5.8898*zp, label = 'без intersept')\n",
    "\n",
    "\n",
    "plt.scatter(zp, ks, label = 'реальные данные')\n",
    "plt.plot(zp, y_pred, label = 'c intersept')\n",
    "plt.plot(zp, 5.8898*zp, label = 'без intersept')\n",
    "plt.legend(fontsize = 10,\n",
    "          ncol = 1,    #  количество столбцов\n",
    "          facecolor = 'oldlace',    #  цвет области\n",
    "          edgecolor = 'r'    #  цвет крайней линии\n",
    "         )\n",
    "\n",
    "plt.show"
   ]
  },
  {
   "cell_type": "markdown",
   "id": "57474e46",
   "metadata": {},
   "source": [
    "### Задача 3\n",
    "Произвести вычисления как в пункте 2, но с вычислением intercept. Учесть, что изменение коэффициентов должно производиться на каждом шаге одновременно (то есть изменение одного коэффициента не должно влиять на изменение другого во время одной итерации)."
   ]
  },
  {
   "cell_type": "code",
   "execution_count": 57,
   "id": "1b47e097",
   "metadata": {},
   "outputs": [
    {
     "name": "stdout",
     "output_type": "stream",
     "text": [
      "B1 = 2.605816\n",
      "B0 = 444.1000432\n",
      "B1 = 2.6100294182784\n",
      "B0 = 444.100074604288\n",
      "B1 = 2.6130818413038197\n",
      "B0 = 444.1000974631357\n",
      "B1 = 2.6152931777504564\n",
      "B0 = 444.10011413121225\n",
      "B1 = 2.616895186440419\n",
      "B0 = 444.1001263143651\n",
      "B1 = 2.618055765764585\n",
      "B0 = 444.10013524840076\n",
      "B1 = 2.6188965502281807\n",
      "B0 = 444.10014182860283\n",
      "B1 = 2.619505658322303\n",
      "B0 = 444.1001467035624\n",
      "B1 = 2.6199469277586176\n",
      "B0 = 444.10015034315325\n",
      "B1 = 2.6202666059635153\n",
      "B0 = 444.1001530877769\n"
     ]
    }
   ],
   "source": [
    "def mse1(B1, B0, y = ks, x = zp, n = len(zp)):\n",
    "    return np.sum((B1*x + B0 - y)**2)/n\n",
    "alpha = 1e-5\n",
    "B1 = 2.6\n",
    "B0 = 444.1\n",
    "n = len(zp)\n",
    "#mse = 1/n *np.sum((B1*x - y)**2)\n",
    "for i in range(10):\n",
    "    a = B1\n",
    "    B1 -= alpha*(2/n)*np.sum((B1*zp + B0 - ks)*zp)\n",
    "    B0 -= alpha*(2/n)*np.sum(B0+ a*zp - ks)\n",
    "    print('B1 = {}'.format(B1))\n",
    "    print('B0 = {}'.format(B0))\n",
    "    "
   ]
  },
  {
   "cell_type": "code",
   "execution_count": 59,
   "id": "9bf56d7a",
   "metadata": {},
   "outputs": [
    {
     "name": "stdout",
     "output_type": "stream",
     "text": [
      "B1 = 2.6205424413076654, B0 = 444.1768738065437, mse = 6470.414201235964\n",
      "B1 = 2.62054102527963, B0 = 444.17706619010056, mse = 6470.414201198161\n",
      "B1 = 2.6205401726652022, B0 = 444.1771820274937, mse = 6470.414201184458\n",
      "B1 = 2.620539659291614, B0 = 444.17725177514995, mse = 6470.4142011794875\n",
      "B1 = 2.6205393501807, B0 = 444.1772937713927, mse = 6470.414201177684\n",
      "B1 = 2.6205391640597777, B0 = 444.1773190580425, mse = 6470.41420117703\n",
      "B1 = 2.6205390519932283, B0 = 444.1773342835612, mse = 6470.414201176793\n",
      "B1 = 2.620538984516055, B0 = 444.17734345110466, mse = 6470.414201176709\n",
      "B1 = 2.6205389438869, B0 = 444.1773489710388, mse = 6470.414201176677\n",
      "B1 = 2.6205389194234208, B0 = 444.17735229468144, mse = 6470.414201176667\n",
      "B1 = 2.620538904693533, B0 = 444.17735429590465, mse = 6470.414201176665\n"
     ]
    }
   ],
   "source": [
    "for i in range(1001000):\n",
    "    a = B1\n",
    "    B1 -= alpha*(2/n)*np.sum((B1*zp + B0 - ks)*zp)\n",
    "    B0 -= alpha*(2/n)*np.sum(B0+ a*zp - ks)\n",
    "    if i % 100000 == 0:\n",
    "        print('B1 = {B1}, B0 = {B0}, mse = {mse}'.format(B1 = B1, B0 = B0, mse = mse1(B1, B0)))\n",
    "      "
   ]
  },
  {
   "cell_type": "code",
   "execution_count": null,
   "id": "dd24572d",
   "metadata": {},
   "outputs": [],
   "source": [
    "y_pred = 444.177 + 2.621*zp"
   ]
  }
 ],
 "metadata": {
  "kernelspec": {
   "display_name": "Python 3 (ipykernel)",
   "language": "python",
   "name": "python3"
  },
  "language_info": {
   "codemirror_mode": {
    "name": "ipython",
    "version": 3
   },
   "file_extension": ".py",
   "mimetype": "text/x-python",
   "name": "python",
   "nbconvert_exporter": "python",
   "pygments_lexer": "ipython3",
   "version": "3.9.7"
  }
 },
 "nbformat": 4,
 "nbformat_minor": 5
}
